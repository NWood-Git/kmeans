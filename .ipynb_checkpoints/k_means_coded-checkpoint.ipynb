{
 "cells": [
  {
   "cell_type": "code",
   "execution_count": 1,
   "metadata": {},
   "outputs": [],
   "source": [
    "import numpy as np\n",
    "import pandas as pd\n",
    "from matplotlib import pyplot as plt\n",
    "%matplotlib inline"
   ]
  },
  {
   "cell_type": "code",
   "execution_count": 2,
   "metadata": {},
   "outputs": [
    {
     "data": {
      "text/plain": [
       "(3000, 2)"
      ]
     },
     "execution_count": 2,
     "metadata": {},
     "output_type": "execute_result"
    }
   ],
   "source": [
    "#Import Dataset\n",
    "data = pd.read_csv('xclara.csv')\n",
    "data.shape"
   ]
  },
  {
   "cell_type": "code",
   "execution_count": 3,
   "metadata": {},
   "outputs": [
    {
     "data": {
      "text/html": [
       "<div>\n",
       "<style scoped>\n",
       "    .dataframe tbody tr th:only-of-type {\n",
       "        vertical-align: middle;\n",
       "    }\n",
       "\n",
       "    .dataframe tbody tr th {\n",
       "        vertical-align: top;\n",
       "    }\n",
       "\n",
       "    .dataframe thead th {\n",
       "        text-align: right;\n",
       "    }\n",
       "</style>\n",
       "<table border=\"1\" class=\"dataframe\">\n",
       "  <thead>\n",
       "    <tr style=\"text-align: right;\">\n",
       "      <th></th>\n",
       "      <th>V1</th>\n",
       "      <th>V2</th>\n",
       "    </tr>\n",
       "  </thead>\n",
       "  <tbody>\n",
       "    <tr>\n",
       "      <th>0</th>\n",
       "      <td>2.072345</td>\n",
       "      <td>-3.241693</td>\n",
       "    </tr>\n",
       "    <tr>\n",
       "      <th>1</th>\n",
       "      <td>17.936710</td>\n",
       "      <td>15.784810</td>\n",
       "    </tr>\n",
       "    <tr>\n",
       "      <th>2</th>\n",
       "      <td>1.083576</td>\n",
       "      <td>7.319176</td>\n",
       "    </tr>\n",
       "    <tr>\n",
       "      <th>3</th>\n",
       "      <td>11.120670</td>\n",
       "      <td>14.406780</td>\n",
       "    </tr>\n",
       "    <tr>\n",
       "      <th>4</th>\n",
       "      <td>23.711550</td>\n",
       "      <td>2.557729</td>\n",
       "    </tr>\n",
       "  </tbody>\n",
       "</table>\n",
       "</div>"
      ],
      "text/plain": [
       "          V1         V2\n",
       "0   2.072345  -3.241693\n",
       "1  17.936710  15.784810\n",
       "2   1.083576   7.319176\n",
       "3  11.120670  14.406780\n",
       "4  23.711550   2.557729"
      ]
     },
     "execution_count": 3,
     "metadata": {},
     "output_type": "execute_result"
    }
   ],
   "source": [
    "data.head()"
   ]
  },
  {
   "cell_type": "code",
   "execution_count": 4,
   "metadata": {},
   "outputs": [],
   "source": [
    "#select k\n",
    "k = 3"
   ]
  },
  {
   "cell_type": "code",
   "execution_count": 5,
   "metadata": {},
   "outputs": [
    {
     "data": {
      "text/plain": [
       "array([1662, 1789, 2048])"
      ]
     },
     "execution_count": 5,
     "metadata": {},
     "output_type": "execute_result"
    }
   ],
   "source": [
    "init_c = np.random.randint(0,2999, size=k)\n",
    "init_c "
   ]
  },
  {
   "cell_type": "code",
   "execution_count": 6,
   "metadata": {},
   "outputs": [
    {
     "data": {
      "text/html": [
       "<div>\n",
       "<style scoped>\n",
       "    .dataframe tbody tr th:only-of-type {\n",
       "        vertical-align: middle;\n",
       "    }\n",
       "\n",
       "    .dataframe tbody tr th {\n",
       "        vertical-align: top;\n",
       "    }\n",
       "\n",
       "    .dataframe thead th {\n",
       "        text-align: right;\n",
       "    }\n",
       "</style>\n",
       "<table border=\"1\" class=\"dataframe\">\n",
       "  <thead>\n",
       "    <tr style=\"text-align: right;\">\n",
       "      <th></th>\n",
       "      <th>V1</th>\n",
       "      <th>V2</th>\n",
       "    </tr>\n",
       "  </thead>\n",
       "  <tbody>\n",
       "    <tr>\n",
       "      <th>1662</th>\n",
       "      <td>49.14691</td>\n",
       "      <td>64.16595</td>\n",
       "    </tr>\n",
       "    <tr>\n",
       "      <th>1789</th>\n",
       "      <td>58.32997</td>\n",
       "      <td>63.25209</td>\n",
       "    </tr>\n",
       "    <tr>\n",
       "      <th>2048</th>\n",
       "      <td>38.16498</td>\n",
       "      <td>53.45429</td>\n",
       "    </tr>\n",
       "  </tbody>\n",
       "</table>\n",
       "</div>"
      ],
      "text/plain": [
       "            V1        V2\n",
       "1662  49.14691  64.16595\n",
       "1789  58.32997  63.25209\n",
       "2048  38.16498  53.45429"
      ]
     },
     "execution_count": 6,
     "metadata": {},
     "output_type": "execute_result"
    }
   ],
   "source": [
    "init_c_dframe= data.iloc[init_c]\n",
    "init_c_dframe"
   ]
  },
  {
   "cell_type": "code",
   "execution_count": 11,
   "metadata": {},
   "outputs": [
    {
     "data": {
      "text/html": [
       "<div>\n",
       "<style scoped>\n",
       "    .dataframe tbody tr th:only-of-type {\n",
       "        vertical-align: middle;\n",
       "    }\n",
       "\n",
       "    .dataframe tbody tr th {\n",
       "        vertical-align: top;\n",
       "    }\n",
       "\n",
       "    .dataframe thead th {\n",
       "        text-align: right;\n",
       "    }\n",
       "</style>\n",
       "<table border=\"1\" class=\"dataframe\">\n",
       "  <thead>\n",
       "    <tr style=\"text-align: right;\">\n",
       "      <th></th>\n",
       "      <th>V1</th>\n",
       "      <th>V2</th>\n",
       "    </tr>\n",
       "  </thead>\n",
       "  <tbody>\n",
       "    <tr>\n",
       "      <th>0</th>\n",
       "      <td>2.072345</td>\n",
       "      <td>-3.241693</td>\n",
       "    </tr>\n",
       "    <tr>\n",
       "      <th>1</th>\n",
       "      <td>17.936710</td>\n",
       "      <td>15.784810</td>\n",
       "    </tr>\n",
       "    <tr>\n",
       "      <th>2</th>\n",
       "      <td>1.083576</td>\n",
       "      <td>7.319176</td>\n",
       "    </tr>\n",
       "    <tr>\n",
       "      <th>3</th>\n",
       "      <td>11.120670</td>\n",
       "      <td>14.406780</td>\n",
       "    </tr>\n",
       "    <tr>\n",
       "      <th>4</th>\n",
       "      <td>23.711550</td>\n",
       "      <td>2.557729</td>\n",
       "    </tr>\n",
       "    <tr>\n",
       "      <th>...</th>\n",
       "      <td>...</td>\n",
       "      <td>...</td>\n",
       "    </tr>\n",
       "    <tr>\n",
       "      <th>2995</th>\n",
       "      <td>85.652800</td>\n",
       "      <td>-6.461061</td>\n",
       "    </tr>\n",
       "    <tr>\n",
       "      <th>2996</th>\n",
       "      <td>82.770880</td>\n",
       "      <td>-2.373299</td>\n",
       "    </tr>\n",
       "    <tr>\n",
       "      <th>2997</th>\n",
       "      <td>64.465320</td>\n",
       "      <td>-10.501360</td>\n",
       "    </tr>\n",
       "    <tr>\n",
       "      <th>2998</th>\n",
       "      <td>90.722820</td>\n",
       "      <td>-12.255840</td>\n",
       "    </tr>\n",
       "    <tr>\n",
       "      <th>2999</th>\n",
       "      <td>64.879760</td>\n",
       "      <td>-24.877310</td>\n",
       "    </tr>\n",
       "  </tbody>\n",
       "</table>\n",
       "<p>2997 rows × 2 columns</p>\n",
       "</div>"
      ],
      "text/plain": [
       "             V1         V2\n",
       "0      2.072345  -3.241693\n",
       "1     17.936710  15.784810\n",
       "2      1.083576   7.319176\n",
       "3     11.120670  14.406780\n",
       "4     23.711550   2.557729\n",
       "...         ...        ...\n",
       "2995  85.652800  -6.461061\n",
       "2996  82.770880  -2.373299\n",
       "2997  64.465320 -10.501360\n",
       "2998  90.722820 -12.255840\n",
       "2999  64.879760 -24.877310\n",
       "\n",
       "[2997 rows x 2 columns]"
      ]
     },
     "execution_count": 11,
     "metadata": {},
     "output_type": "execute_result"
    }
   ],
   "source": [
    "# Remdove 3 points that are the intial centroids from dataset used to train\n",
    "data_wo_c = data.drop(index=init_c)\n",
    "data_wo_c"
   ]
  },
  {
   "cell_type": "code",
   "execution_count": 12,
   "metadata": {},
   "outputs": [],
   "source": [
    "# init_c_dframe.iloc[0]\n",
    "# init_c_dframe.mean()"
   ]
  },
  {
   "cell_type": "code",
   "execution_count": null,
   "metadata": {},
   "outputs": [],
   "source": []
  },
  {
   "cell_type": "code",
   "execution_count": 13,
   "metadata": {},
   "outputs": [],
   "source": [
    "def centroid_names(inital_centroid_df):\n",
    "    cent_names = []\n",
    "    for num in range(inital_centroid_df.shape[0]):\n",
    "        cent_names.append('c' + str(num))\n",
    "    return cent_names\n",
    "# print(centroid_names(init_c_dframe))"
   ]
  },
  {
   "cell_type": "code",
   "execution_count": 14,
   "metadata": {},
   "outputs": [
    {
     "data": {
      "text/html": [
       "<div>\n",
       "<style scoped>\n",
       "    .dataframe tbody tr th:only-of-type {\n",
       "        vertical-align: middle;\n",
       "    }\n",
       "\n",
       "    .dataframe tbody tr th {\n",
       "        vertical-align: top;\n",
       "    }\n",
       "\n",
       "    .dataframe thead th {\n",
       "        text-align: right;\n",
       "    }\n",
       "</style>\n",
       "<table border=\"1\" class=\"dataframe\">\n",
       "  <thead>\n",
       "    <tr style=\"text-align: right;\">\n",
       "      <th></th>\n",
       "      <th>V1</th>\n",
       "      <th>V2</th>\n",
       "    </tr>\n",
       "  </thead>\n",
       "  <tbody>\n",
       "    <tr>\n",
       "      <th>c0</th>\n",
       "      <td>49.14691</td>\n",
       "      <td>64.16595</td>\n",
       "    </tr>\n",
       "    <tr>\n",
       "      <th>c1</th>\n",
       "      <td>58.32997</td>\n",
       "      <td>63.25209</td>\n",
       "    </tr>\n",
       "    <tr>\n",
       "      <th>c2</th>\n",
       "      <td>38.16498</td>\n",
       "      <td>53.45429</td>\n",
       "    </tr>\n",
       "  </tbody>\n",
       "</table>\n",
       "</div>"
      ],
      "text/plain": [
       "          V1        V2\n",
       "c0  49.14691  64.16595\n",
       "c1  58.32997  63.25209\n",
       "c2  38.16498  53.45429"
      ]
     },
     "execution_count": 14,
     "metadata": {},
     "output_type": "execute_result"
    }
   ],
   "source": [
    "names = centroid_names(init_c_dframe)\n",
    "init_c_dframe.index = names\n",
    "init_c_dframe"
   ]
  },
  {
   "cell_type": "code",
   "execution_count": 15,
   "metadata": {},
   "outputs": [],
   "source": [
    "class Centroid:\n",
    "    \n",
    "    instances = []\n",
    "            \n",
    "    def __init__(self, mean, points):\n",
    "        self.mean = mean\n",
    "        self.points = points\n",
    "        self.__class__.instances.append(self)\n",
    "\n",
    "    def add_point(self, point):\n",
    "        self.points.add(point)\n",
    "        counter = 0 \n",
    "        for x in point:\n",
    "            new = (self.mean[counter] *(len(self.mean)-1) + x) / len(self.mean)\n",
    "            self.mean[counter]  = new\n",
    "            counter += 1\n",
    "            \n",
    "    def __str__(self):\n",
    "        return f\"mean is {self.mean}. points are: {self.points}\"\n",
    "\n",
    "    \n",
    "    @classmethod\n",
    "    def printInstances(cls):\n",
    "        for instance in cls.instances:\n",
    "            print(instance)\n",
    "            \n",
    "#     def __init__(self, point):\n",
    "#         self.point = set()\n",
    "#         self.mean = []# was 0 or \n",
    "#         self.add_point(point)\n",
    "\n",
    "#     def add_point(self, point):\n",
    "#         self.point.add(point)\n",
    "#         for x in point:\n",
    "#             new = (self.mean[point.index(x)] *(len(self.mean)-1) + x) / len(self.mean)\n",
    "#             self.mean[point.index(x)]  = new"
   ]
  },
  {
   "cell_type": "code",
   "execution_count": 16,
   "metadata": {},
   "outputs": [],
   "source": [
    "# # Test cell for  Class\n",
    "# c1 = Centroid(mean=[9,10], points={(9,10)})\n",
    "# c1.add_point((3,5))\n",
    "# print(c1.mean)\n",
    "# print(c1.points)\n",
    "\n",
    "\n",
    "#test for update init\n",
    "# c2 = Centroid((1,5))\n",
    "# c2.mean"
   ]
  },
  {
   "cell_type": "code",
   "execution_count": 17,
   "metadata": {},
   "outputs": [
    {
     "name": "stdout",
     "output_type": "stream",
     "text": [
      "c0\n",
      "mean is [49.14691, 64.16595]. points are: {(49.14691, 64.16595)}\n",
      "c1\n",
      "mean is [58.32997, 63.25209]. points are: {(58.32997, 63.25209)}\n",
      "c2\n",
      "mean is [38.16498, 53.45429]. points are: {(38.16498, 53.45429)}\n"
     ]
    }
   ],
   "source": [
    "def create_first_centroids(inital_centroid_df):\n",
    "#     for row in range(k):\n",
    "#         names[row] = Centroid(mean=[init_c_dframe.iloc[row][0],init_c_dframe.iloc[row][1]], \n",
    "#                                                  points={(init_c_dframe.iloc[row][0], init_c_dframe.iloc[row][1])})\n",
    "        \n",
    "    for index, row in inital_centroid_df.iterrows(): #creates k instances of a class which become objects\n",
    "        print(index)\n",
    "        index = Centroid( mean=[row[0], row[1]], points={(row[0], row[1])} ) #DOES THIS SCALE?\n",
    "        print(index)\n",
    "    \n",
    "# print(list(data))\n",
    "# init_c_dframe.shape\n",
    "\n",
    "\n",
    "# print(init_c_dframe['V1'][0])\n",
    "\n",
    "# init_c_dframe.iloc[0][1]\n",
    "# init_c_dframe.index[0]\n",
    "create_first_centroids(init_c_dframe)\n",
    "\n",
    "# for index, row in init_c_dframe.iterrows():\n",
    "#     print(index, row[0], row[1])"
   ]
  },
  {
   "cell_type": "code",
   "execution_count": 18,
   "metadata": {},
   "outputs": [],
   "source": [
    "# Centroid.printInstances()\n",
    "# for instance in Centroid.instances:\n",
    "#     print(instance.points)    \n",
    "# Centroid.instances[0]"
   ]
  },
  {
   "cell_type": "code",
   "execution_count": 19,
   "metadata": {},
   "outputs": [],
   "source": [
    "# Euclidean Distance Calculator (Scaled)\n",
    "def dist(p1,p2):\n",
    "    dists = []\n",
    "    for dim in range(init_c_dframe.shape[1]):#range of # cols - dataframe,shape resturns (#rows, #columns)\n",
    "        dists.append((p2[dim] - p1[dim])**2)\n",
    "    return (sum(dists))**.5\n",
    "\n",
    "# dist(init_c_dframe.iloc[0], init_c_dframe.iloc[1])\n",
    "\n",
    "# # Euclidean Distance Calculator\n",
    "# def dist(p1, p2):\n",
    "#     return (((p2[1]-p1[1])**2) + ((p2[0] - p1[0]))**2) **.5 #NOT SCALED but works\n",
    "\n",
    "# dist(init_c_dframe.iloc[0], init_c_dframe.iloc[1])"
   ]
  },
  {
   "cell_type": "code",
   "execution_count": 20,
   "metadata": {},
   "outputs": [],
   "source": [
    "# use the loop\n",
    "def take_second(item):\n",
    "    return item[1]\n",
    "\n",
    "def find_closest_centroid(new_point):\n",
    "    '''finds closesr centroid and updates it with the datapoint'''\n",
    "    c_dist = set()\n",
    "    for instance in Centroid.instances:\n",
    "        c_dist.add((instance, dist(new_point, instance.mean)))\n",
    "    dist_sort = sorted(c_dist, key = take_second)\n",
    "    dist_sort[0][0].add_point(new_point)\n",
    "    return 'point added'\n",
    "\n",
    "# print(find_closest_centroid((0,0)))\n"
   ]
  },
  {
   "cell_type": "code",
   "execution_count": 21,
   "metadata": {},
   "outputs": [
    {
     "data": {
      "text/plain": [
       "{(38.16498, 53.45429)}"
      ]
     },
     "execution_count": 21,
     "metadata": {},
     "output_type": "execute_result"
    }
   ],
   "source": [
    "\n",
    "Centroid.instances[2].points\n"
   ]
  },
  {
   "cell_type": "code",
   "execution_count": 22,
   "metadata": {},
   "outputs": [
    {
     "data": {
      "text/plain": [
       "[38.16498, 53.45429]"
      ]
     },
     "execution_count": 22,
     "metadata": {},
     "output_type": "execute_result"
    }
   ],
   "source": [
    "Centroid.instances[2].mean"
   ]
  },
  {
   "cell_type": "code",
   "execution_count": null,
   "metadata": {},
   "outputs": [],
   "source": []
  },
  {
   "cell_type": "code",
   "execution_count": null,
   "metadata": {},
   "outputs": [],
   "source": [
    "# # OLD CODE\n",
    "# d_0 = data.iloc[0]\n",
    "# e_dists = []\n",
    "# for x in range(k):\n",
    "#     e_dists.append(dist(d_0, init_c_dframe.iloc[x]))\n",
    "# print(e_dists)"
   ]
  },
  {
   "cell_type": "code",
   "execution_count": null,
   "metadata": {},
   "outputs": [],
   "source": [
    "# Training Loop\n"
   ]
  },
  {
   "cell_type": "code",
   "execution_count": 23,
   "metadata": {},
   "outputs": [],
   "source": [
    "for row in data_wo_c.iterrows():\n",
    "    point = (row[1][0], row[1][1]) #needs to be fixed for scaling 1st bracket is dataframe 2nd bracket is index\n",
    "    find_closest_centroid(point)"
   ]
  },
  {
   "cell_type": "code",
   "execution_count": 24,
   "metadata": {},
   "outputs": [
    {
     "name": "stdout",
     "output_type": "stream",
     "text": [
      "1345\n",
      "698\n",
      "957\n"
     ]
    }
   ],
   "source": [
    "for instance in Centroid.instances:\n",
    "    print(len(instance.points))\n",
    "# print(951+642+1409)"
   ]
  },
  {
   "cell_type": "code",
   "execution_count": 26,
   "metadata": {},
   "outputs": [],
   "source": [
    "# print(Centroid.instances[0].points)"
   ]
  },
  {
   "cell_type": "code",
   "execution_count": 27,
   "metadata": {},
   "outputs": [
    {
     "name": "stdout",
     "output_type": "stream",
     "text": [
      "3000\n"
     ]
    }
   ],
   "source": [
    "print(1345+698+957)"
   ]
  },
  {
   "cell_type": "code",
   "execution_count": 31,
   "metadata": {},
   "outputs": [
    {
     "data": {
      "text/plain": [
       "<matplotlib.axes._subplots.AxesSubplot at 0x7efc41399588>"
      ]
     },
     "execution_count": 31,
     "metadata": {},
     "output_type": "execute_result"
    },
    {
     "data": {
      "image/png": "[encoded data removed]",
      "text/plain": [
       "<Figure size 432x288 with 1 Axes>"
      ]
     },
     "metadata": {
      "needs_background": "light"
     },
     "output_type": "display_data"
    }
   ],
   "source": [
    "# import matplotlib.pyplot as plt\n",
    "# %matplotlib inline\n",
    "graph = data_wo_c.plot(x=\"V1\", y ='V2', kind='scatter')"
   ]
  },
  {
   "cell_type": "code",
   "execution_count": 39,
   "metadata": {},
   "outputs": [
    {
     "data": {
      "text/plain": [
       "(0.29698474217926807, 0.7332540009556542, 0.7362095248690826)"
      ]
     },
     "execution_count": 39,
     "metadata": {},
     "output_type": "execute_result"
    }
   ],
   "source": [
    "# np.random.uniform(0,1),np.random.uniform(0,1),np.random.uniform(0,1)"
   ]
  },
  {
   "cell_type": "code",
   "execution_count": 44,
   "metadata": {},
   "outputs": [
    {
     "data": {
      "text/plain": [
       "array([0, 1, 2, 3, 4, 5, 6, 7, 8, 9])"
      ]
     },
     "execution_count": 44,
     "metadata": {},
     "output_type": "execute_result"
    }
   ],
   "source": [
    "# import matplotlib.pyplot as plt\n",
    "%matplotlib inline\n",
    "\n",
    "# plt.plot((Centroid.instances[0].points))\n",
    "\n",
    "np.arange(10)"
   ]
  },
  {
   "cell_type": "code",
   "execution_count": 53,
   "metadata": {},
   "outputs": [
    {
     "data": {
      "text/plain": [
       "[<matplotlib.lines.Line2D at 0x7efc40bcd588>]"
      ]
     },
     "execution_count": 53,
     "metadata": {},
     "output_type": "execute_result"
    },
    {
     "data": {
      "image/png": "[encoded data removed]",
      "text/plain": [
       "<Figure size 432x288 with 1 Axes>"
      ]
     },
     "metadata": {
      "needs_background": "light"
     },
     "output_type": "display_data"
    }
   ],
   "source": [
    "plt.plot([1,2,3],[1,2,3])"
   ]
  },
  {
   "cell_type": "code",
   "execution_count": 63,
   "metadata": {},
   "outputs": [
    {
     "data": {
      "text/plain": [
       "[<matplotlib.lines.Line2D at 0x7efc40994cf8>]"
      ]
     },
     "execution_count": 63,
     "metadata": {},
     "output_type": "execute_result"
    },
    {
     "data": {
      "image/png": "[encoded data removed]",
      "text/plain": [
       "<Figure size 432x288 with 1 Axes>"
      ]
     },
     "metadata": {
      "needs_background": "light"
     },
     "output_type": "display_data"
    }
   ],
   "source": [
    "v1 = []\n",
    "v2 = []\n",
    "for instance in Centroid.instances:\n",
    "    v1.append(instance.mean[0])\n",
    "    v2.append(instance.mean[1])\n",
    "plt.plot(v1, v2, 'kX', markersize = 15)\n",
    "    "
   ]
  },
  {
   "cell_type": "code",
   "execution_count": null,
   "metadata": {},
   "outputs": [],
   "source": []
  },
  {
   "cell_type": "code",
   "execution_count": 65,
   "metadata": {},
   "outputs": [
    {
     "ename": "SyntaxError",
     "evalue": "invalid syntax (<ipython-input-65-1a2760a15871>, line 1)",
     "output_type": "error",
     "traceback": [
      "\u001b[0;36m  File \u001b[0;32m\"<ipython-input-65-1a2760a15871>\"\u001b[0;36m, line \u001b[0;32m1\u001b[0m\n\u001b[0;31m    plt.annotate(s 'hi', xy = (1,3))\u001b[0m\n\u001b[0m                      ^\u001b[0m\n\u001b[0;31mSyntaxError\u001b[0m\u001b[0;31m:\u001b[0m invalid syntax\n"
     ]
    }
   ],
   "source": [
    "plt.annotate(s 'hi', xy = (1,3))\n",
    "\n"
   ]
  },
  {
   "cell_type": "code",
   "execution_count": null,
   "metadata": {},
   "outputs": [],
   "source": []
  }
 ],
 "metadata": {
  "kernelspec": {
   "display_name": "Python 3",
   "language": "python",
   "name": "python3"
  },
  "language_info": {
   "codemirror_mode": {
    "name": "ipython",
    "version": 3
   },
   "file_extension": ".py",
   "mimetype": "text/x-python",
   "name": "python",
   "nbconvert_exporter": "python",
   "pygments_lexer": "ipython3",
   "version": "3.6.9"
  }
 },
 "nbformat": 4,
 "nbformat_minor": 4
}
